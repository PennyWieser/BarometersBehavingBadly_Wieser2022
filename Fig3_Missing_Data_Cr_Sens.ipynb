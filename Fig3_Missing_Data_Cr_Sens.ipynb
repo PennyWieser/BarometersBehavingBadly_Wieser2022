{
 "cells": [
  {
   "cell_type": "code",
   "execution_count": 1,
   "metadata": {},
   "outputs": [],
   "source": [
    "import numpy as np\n",
    "import pandas as pd\n",
    "import matplotlib.pyplot as plt\n",
    "import matplotlib as mpl\n",
    "from matplotlib import cm\n",
    "import warnings as w\n",
    "pd.options.display.max_columns = None"
   ]
  },
  {
   "cell_type": "code",
   "execution_count": 2,
   "metadata": {},
   "outputs": [],
   "source": [
    "## Uncomment these two lines once on each computer. \n",
    "#!pip install Thermobar\n",
    "#!pip install \"https://github.com/PennyWieser/Thermobar_onnx/archive/refs/tags/0.02.zip\"\n",
    "import Thermobar as pt"
   ]
  },
  {
   "cell_type": "code",
   "execution_count": 3,
   "metadata": {},
   "outputs": [],
   "source": [
    "plt.style.use(\"seaborn-colorblind\")\n",
    "plt.rcParams[\"font.family\"] = 'arial'\n",
    "plt.rcParams[\"font.size\"] =12\n",
    "plt.rcParams[\"mathtext.default\"] = \"regular\"\n",
    "plt.rcParams[\"mathtext.fontset\"] = \"dejavusans\"\n",
    "plt.rcParams['patch.linewidth'] = 1\n",
    "plt.rcParams['axes.linewidth'] = 1\n",
    "plt.rcParams[\"xtick.direction\"] = \"in\"\n",
    "plt.rcParams[\"ytick.direction\"] = \"in\"\n",
    "plt.rcParams[\"ytick.direction\"] = \"in\"\n",
    "plt.rcParams[\"xtick.major.size\"] = 6 # Sets length of ticks\n",
    "plt.rcParams[\"ytick.major.size\"] = 4 # Sets length of ticks\n",
    "plt.rcParams[\"ytick.labelsize\"] = 12 # Sets size of numbers on tick marks\n",
    "plt.rcParams[\"xtick.labelsize\"] = 12 # Sets size of numbers on tick marks\n",
    "plt.rcParams[\"axes.titlesize\"] = 14 # Overall title\n",
    "plt.rcParams[\"axes.labelsize\"] = 14 # Axes labels"
   ]
  },
  {
   "cell_type": "markdown",
   "metadata": {},
   "source": [
    "##  Loading Keith's calibration dataset and calculating missing data amount"
   ]
  },
  {
   "cell_type": "code",
   "execution_count": 4,
   "metadata": {},
   "outputs": [],
   "source": [
    "Keith=pd.read_excel('Supporting_Data_1.xlsx', sheet_name='Putirka_Cali')"
   ]
  },
  {
   "cell_type": "code",
   "execution_count": 5,
   "metadata": {},
   "outputs": [
    {
     "name": "stderr",
     "output_type": "stream",
     "text": [
      "C:\\Users\\penny\\anaconda3\\lib\\site-packages\\pandas\\core\\indexing.py:2120: FutureWarning: In a future version, the Index constructor will not infer numeric dtypes when passed object-dtype sequences (matching Series behavior)\n",
      "  new_ix = Index(new_ix)\n"
     ]
    }
   ],
   "source": [
    "## Loading into thermobar format\n",
    "Keith_in=pt.import_excel('Supporting_Data_1.xlsx', sheet_name='Putirka_Cali_Thermobar') \n",
    "Keith_input=Keith_in['my_input']\n",
    "Keith_Cpx=Keith_in['Cpxs']\n",
    "cpx_comps=pt.calculate_clinopyroxene_components(cpx_comps=Keith_Cpx)"
   ]
  },
  {
   "cell_type": "code",
   "execution_count": 6,
   "metadata": {},
   "outputs": [],
   "source": [
    "## Loading into thermobar format\n",
    "Petrelli=pd.read_excel('Supporting_Data_1.xlsx', sheet_name='Petrelli_Cali') "
   ]
  },
  {
   "cell_type": "code",
   "execution_count": 7,
   "metadata": {},
   "outputs": [],
   "source": [
    "## Loading into thermobar format\n",
    "Petrelli_in=pt.import_excel('Supporting_Data_1.xlsx', sheet_name='Petrelli_Cali') \n",
    "Petrelli_input=Petrelli_in['my_input']\n",
    "Petrelli_Cpx=Petrelli_in['Cpxs']\n",
    "Petrelli_Liq=Petrelli_in['Liqs']"
   ]
  },
  {
   "cell_type": "markdown",
   "metadata": {},
   "source": [
    "### Text about Cr"
   ]
  },
  {
   "cell_type": "code",
   "execution_count": 8,
   "metadata": {},
   "outputs": [
    {
     "data": {
      "text/plain": [
       "698"
      ]
     },
     "execution_count": 8,
     "metadata": {},
     "output_type": "execute_result"
    }
   ],
   "source": [
    "NoCr_Liq_Keith=Keith['Wt: Cr2O3_Liq']==0\n",
    "sum(NoCr_Liq_Keith)\n",
    "\n",
    "NoCr_Cpx_Keith=Keith['Wt: Cr2O3_Cpx']==0\n",
    "sum(NoCr_Cpx_Keith)\n",
    "\n",
    "Cr_Liq_Keith=Keith['Wt: Cr2O3_Liq']>0\n",
    "sum(Cr_Liq_Keith)\n",
    "\n",
    "Cr_Cpx_Keith=Keith['Wt: Cr2O3_Cpx']>0\n",
    "sum(Cr_Cpx_Keith)"
   ]
  },
  {
   "cell_type": "code",
   "execution_count": 9,
   "metadata": {},
   "outputs": [
    {
     "name": "stdout",
     "output_type": "stream",
     "text": [
      "Prop Keith with no Liq Cr data\n",
      "58.21635012386457\n"
     ]
    }
   ],
   "source": [
    "print('Prop Keith with no Liq Cr data')\n",
    "print(100*sum(NoCr_Liq_Keith)/(sum(NoCr_Liq_Keith)+sum(Cr_Liq_Keith)))\n"
   ]
  },
  {
   "cell_type": "code",
   "execution_count": 13,
   "metadata": {},
   "outputs": [
    {
     "name": "stdout",
     "output_type": "stream",
     "text": [
      "Prop Keith with no Cpx Cr data\n",
      "42.36168455821635\n"
     ]
    }
   ],
   "source": [
    "print('Prop Keith with no Cpx Cr data')\n",
    "print(100*sum(NoCr_Cpx_Keith)/(sum(NoCr_Cpx_Keith)+sum(Cr_Cpx_Keith)))\n"
   ]
  },
  {
   "cell_type": "markdown",
   "metadata": {},
   "source": [
    "### Text missing text about water"
   ]
  },
  {
   "cell_type": "code",
   "execution_count": 11,
   "metadata": {},
   "outputs": [
    {
     "name": "stdout",
     "output_type": "stream",
     "text": [
      "Keith Prop with water = 0\n",
      "73.50565428109854\n",
      "72.27958697378872\n"
     ]
    }
   ],
   "source": [
    "print('Keith Prop with water = 0')\n",
    "print(100*sum(Keith['Wt: H2O']==0)/(sum(Keith['Wt: H2O']>0)+sum(Keith['Wt: H2O']==0)))\n",
    "print(100*sum(Keith['Wt: H2O']==0)/(len(Keith)))"
   ]
  },
  {
   "cell_type": "code",
   "execution_count": 12,
   "metadata": {},
   "outputs": [
    {
     "name": "stdout",
     "output_type": "stream",
     "text": [
      "Petrelli Prop with water = 0\n",
      "66.23529411764706\n",
      "66.23529411764706\n"
     ]
    }
   ],
   "source": [
    "Petrelli_nan=Petrelli.fillna(0)\n",
    "print('Petrelli Prop with water = 0')\n",
    "print(100*sum(Petrelli_nan['H2O_Liq']==0)/(sum(Petrelli_nan['H2O_Liq']>0)+sum(Petrelli_nan['H2O_Liq']==0)))\n",
    "print(100*sum(Petrelli_nan['H2O_Liq']==0)/(len(Petrelli_nan)))"
   ]
  },
  {
   "cell_type": "code",
   "execution_count": 13,
   "metadata": {},
   "outputs": [
    {
     "name": "stdout",
     "output_type": "stream",
     "text": [
      "Prop with P2O5 = 0\n",
      "56.06936416184971\n",
      "53.93169181890389\n"
     ]
    }
   ],
   "source": [
    "print('Prop with P2O5 = 0')\n",
    "print(100*sum(Keith['Wt: P2O5_Liq']==0)/(sum(Keith['Wt: P2O5_Liq']>0)+sum(Keith['Wt: P2O5_Liq']==0)))\n",
    "print(100*sum(Keith['Wt: P2O5_Liq']==0)/(len(Keith)))"
   ]
  },
  {
   "cell_type": "markdown",
   "metadata": {},
   "source": [
    "## Text about missing elements from Petrelli"
   ]
  },
  {
   "cell_type": "code",
   "execution_count": 14,
   "metadata": {},
   "outputs": [
    {
     "name": "stdout",
     "output_type": "stream",
     "text": [
      "Petrelli Prop with P2O5 = 0\n",
      "54.470588235294116\n",
      "54.470588235294116\n"
     ]
    }
   ],
   "source": [
    "Petrelli_nan=Petrelli.fillna(0)\n",
    "print('Petrelli Prop with P2O5 = 0')\n",
    "print(100*sum(Petrelli_nan['P2O5_Liq']==0)/(sum(Petrelli_nan['P2O5_Liq']>0)+sum(Petrelli_nan['P2O5_Liq']==0)))\n",
    "print(100*sum(Petrelli_nan['P2O5_Liq']==0)/(len(Petrelli_nan)))"
   ]
  },
  {
   "cell_type": "code",
   "execution_count": 15,
   "metadata": {},
   "outputs": [
    {
     "name": "stdout",
     "output_type": "stream",
     "text": [
      "Petrelli Prop with Cr2O3 Glass = 0\n",
      "60.94117647058823\n",
      "60.94117647058823\n"
     ]
    }
   ],
   "source": [
    "Petrelli_nan=Petrelli.fillna(0)\n",
    "print('Petrelli Prop with Cr2O3 Glass = 0')\n",
    "print(100*sum(Petrelli_nan['Cr2O3_Liq']==0)/(sum(Petrelli_nan['Cr2O3_Liq']>0)+sum(Petrelli_nan['Cr2O3_Liq']==0)))\n",
    "print(100*sum(Petrelli_nan['Cr2O3_Liq']==0)/(len(Petrelli_nan)))"
   ]
  },
  {
   "cell_type": "code",
   "execution_count": 16,
   "metadata": {},
   "outputs": [
    {
     "name": "stdout",
     "output_type": "stream",
     "text": [
      "Petrelli Prop with K2O Cpx = 0\n",
      "71.17647058823529\n",
      "71.17647058823529\n"
     ]
    }
   ],
   "source": [
    "Petrelli_nan=Petrelli.fillna(0)\n",
    "print('Petrelli Prop with K2O Cpx = 0')\n",
    "print(100*sum(Petrelli_nan['K2O_Cpx']==0)/(sum(Petrelli_nan['K2O_Cpx']>0)+sum(Petrelli_nan['K2O_Cpx']==0)))\n",
    "print(100*sum(Petrelli_nan['K2O_Cpx']==0)/(len(Petrelli_nan)))"
   ]
  },
  {
   "cell_type": "markdown",
   "metadata": {},
   "source": [
    "### Text about remaining elements after list wise deletion"
   ]
  },
  {
   "cell_type": "code",
   "execution_count": 14,
   "metadata": {},
   "outputs": [
    {
     "data": {
      "text/plain": [
       "7"
      ]
     },
     "execution_count": 14,
     "metadata": {},
     "output_type": "execute_result"
    }
   ],
   "source": [
    "Petrelli_Cpx_na=Petrelli_Cpx.fillna(0)\n",
    "Petrelli_Liq_na=Petrelli_Liq.fillna(0)\n",
    "cpx_liq_combo=pd.concat([Petrelli_Cpx_na, Petrelli_Liq_na], axis=1)\n",
    "df=pd.DataFrame(data={\n",
    "                                'SiO2_Liq': cpx_liq_combo['SiO2_Liq'],\n",
    "                                'TiO2_Liq': cpx_liq_combo['TiO2_Liq'],\n",
    "                                'Al2O3_Liq': cpx_liq_combo['Al2O3_Liq'],\n",
    "                                'FeOt_Liq': cpx_liq_combo['FeOt_Liq'],\n",
    "                                'MnO_Liq': cpx_liq_combo['MnO_Liq'],\n",
    "                                'MgO_Liq': cpx_liq_combo['MgO_Liq'],\n",
    "                                'CaO_Liq': cpx_liq_combo['CaO_Liq'],\n",
    "                                'Na2O_Liq': cpx_liq_combo['Na2O_Liq'],\n",
    "                                'K2O_Liq': cpx_liq_combo['K2O_Liq'],\n",
    "                                'Cr2O3_Liq': cpx_liq_combo['Cr2O3_Liq'],\n",
    "                                'P2O5_Liq': cpx_liq_combo['P2O5_Liq'],\n",
    "                                'H2O_Liq': cpx_liq_combo['H2O_Liq'],\n",
    "                                'SiO2_Cpx': cpx_liq_combo['SiO2_Cpx'],\n",
    "                                'TiO2_Cpx': cpx_liq_combo['TiO2_Cpx'],\n",
    "                                'Al2O3_Cpx': cpx_liq_combo['Al2O3_Cpx'],\n",
    "                                'FeOt_Cpx': cpx_liq_combo['FeOt_Cpx'],\n",
    "                                'MnO_Cpx': cpx_liq_combo['MnO_Cpx'],\n",
    "                                'MgO_Cpx': cpx_liq_combo['MgO_Cpx'],\n",
    "                                'CaO_Cpx': cpx_liq_combo['CaO_Cpx'],\n",
    "                                'Na2O_Cpx': cpx_liq_combo['Na2O_Cpx'],\n",
    "                                'K2O_Cpx': cpx_liq_combo['K2O_Cpx'],\n",
    "                                'Cr2O3_Cpx': cpx_liq_combo['Cr2O3_Cpx'],\n",
    "    })\n",
    "\n",
    "    \n",
    "mask = (df != 0).all(axis=1)\n",
    "non_zero_rows = mask.sum()\n",
    "non_zero_rows"
   ]
  },
  {
   "cell_type": "code",
   "execution_count": 15,
   "metadata": {},
   "outputs": [
    {
     "data": {
      "text/plain": [
       "80"
      ]
     },
     "execution_count": 15,
     "metadata": {},
     "output_type": "execute_result"
    }
   ],
   "source": [
    "Petrelli_Cpx_na=Petrelli_Cpx.fillna(0)\n",
    "Petrelli_Liq_na=Petrelli_Liq.fillna(0)\n",
    "cpx_liq_combo=pd.concat([Petrelli_Cpx_na, Petrelli_Liq_na], axis=1)\n",
    "df=pd.DataFrame(data={\n",
    "                                'SiO2_Cpx': cpx_liq_combo['SiO2_Cpx'],\n",
    "                                'TiO2_Cpx': cpx_liq_combo['TiO2_Cpx'],\n",
    "                                'Al2O3_Cpx': cpx_liq_combo['Al2O3_Cpx'],\n",
    "                                'FeOt_Cpx': cpx_liq_combo['FeOt_Cpx'],\n",
    "                                'MnO_Cpx': cpx_liq_combo['MnO_Cpx'],\n",
    "                                'MgO_Cpx': cpx_liq_combo['MgO_Cpx'],\n",
    "                                'CaO_Cpx': cpx_liq_combo['CaO_Cpx'],\n",
    "                                'Na2O_Cpx': cpx_liq_combo['Na2O_Cpx'],\n",
    "                                'K2O_Cpx': cpx_liq_combo['K2O_Cpx'],\n",
    "                                'Cr2O3_Cpx': cpx_liq_combo['Cr2O3_Cpx'],\n",
    "    })\n",
    "\n",
    "    \n",
    "mask = (df != 0).all(axis=1)\n",
    "non_zero_rows = mask.sum()\n",
    "non_zero_rows"
   ]
  },
  {
   "cell_type": "code",
   "execution_count": 19,
   "metadata": {},
   "outputs": [
    {
     "data": {
      "text/plain": [
       "850"
      ]
     },
     "execution_count": 19,
     "metadata": {},
     "output_type": "execute_result"
    }
   ],
   "source": [
    "len(cpx_liq_combo)"
   ]
  },
  {
   "cell_type": "markdown",
   "metadata": {},
   "source": [
    "### Text about number of unique laboratories. "
   ]
  },
  {
   "cell_type": "code",
   "execution_count": 20,
   "metadata": {},
   "outputs": [
    {
     "name": "stdout",
     "output_type": "stream",
     "text": [
      "Number of unique labs\n"
     ]
    },
    {
     "data": {
      "text/plain": [
       "46"
      ]
     },
     "execution_count": 20,
     "metadata": {},
     "output_type": "execute_result"
    }
   ],
   "source": [
    "print('Number of unique labs')\n",
    "len(Keith['Laboratory'].unique())"
   ]
  },
  {
   "cell_type": "code",
   "execution_count": 21,
   "metadata": {},
   "outputs": [
    {
     "name": "stdout",
     "output_type": "stream",
     "text": [
      "Number of analyses at MIT\n"
     ]
    },
    {
     "data": {
      "text/plain": [
       "0.25258141382049243"
      ]
     },
     "execution_count": 21,
     "metadata": {},
     "output_type": "execute_result"
    }
   ],
   "source": [
    "print('Number of analyses at MIT')\n",
    "sum(Keith['Laboratory']=='MIT')/len(Keith)"
   ]
  },
  {
   "cell_type": "code",
   "execution_count": 22,
   "metadata": {},
   "outputs": [
    {
     "name": "stdout",
     "output_type": "stream",
     "text": [
      "Number of analyses at Penn State\n"
     ]
    },
    {
     "data": {
      "text/plain": [
       "0.07148530579825259"
      ]
     },
     "execution_count": 22,
     "metadata": {},
     "output_type": "execute_result"
    }
   ],
   "source": [
    "print('Number of analyses at Penn State')\n",
    "sum(Keith['Laboratory']=='Pennsylvania State University')/len(Keith)"
   ]
  },
  {
   "cell_type": "code",
   "execution_count": 23,
   "metadata": {},
   "outputs": [
    {
     "name": "stdout",
     "output_type": "stream",
     "text": [
      "Number of analyses at Lamont\n"
     ]
    },
    {
     "data": {
      "text/plain": [
       "0.06433677521842732"
      ]
     },
     "execution_count": 23,
     "metadata": {},
     "output_type": "execute_result"
    }
   ],
   "source": [
    "print('Number of analyses at Lamont')\n",
    "sum(Keith['Laboratory']=='Lamont-Doherty Earth Observatory')/len(Keith)"
   ]
  },
  {
   "cell_type": "code",
   "execution_count": 24,
   "metadata": {},
   "outputs": [
    {
     "name": "stdout",
     "output_type": "stream",
     "text": [
      "Number of analyses at Hannover\n"
     ]
    },
    {
     "data": {
      "text/plain": [
       "0.04289118347895155"
      ]
     },
     "execution_count": 24,
     "metadata": {},
     "output_type": "execute_result"
    }
   ],
   "source": [
    "print('Number of analyses at Hannover')\n",
    "sum(Keith['Laboratory']=='University of Hannover')/len(Keith)"
   ]
  },
  {
   "cell_type": "code",
   "execution_count": 25,
   "metadata": {},
   "outputs": [
    {
     "name": "stdout",
     "output_type": "stream",
     "text": [
      "Number of analyses at UO\n"
     ]
    },
    {
     "data": {
      "text/plain": [
       "0.04924543288324067"
      ]
     },
     "execution_count": 25,
     "metadata": {},
     "output_type": "execute_result"
    }
   ],
   "source": [
    "print('Number of analyses at UO')\n",
    "sum(Keith['Laboratory']=='University of Oregon')/len(Keith)"
   ]
  },
  {
   "cell_type": "markdown",
   "metadata": {},
   "source": [
    "## Loading my newly compiled experimental dataset and finding missing data amount"
   ]
  },
  {
   "cell_type": "code",
   "execution_count": 26,
   "metadata": {},
   "outputs": [
    {
     "name": "stdout",
     "output_type": "stream",
     "text": [
      "Using Fe3FeT from input file to calculate Kd Fe-Mg\n"
     ]
    },
    {
     "name": "stderr",
     "output_type": "stream",
     "text": [
      "C:\\Users\\penny\\AppData\\Local\\Temp\\ipykernel_28972\\2907548969.py:7: UserWarning: This pattern is interpreted as a regular expression, and has match groups. To actually get the groups, use str.extract.\n",
      "  notinKeith=(cpx_Glass['Citation_x'].str.contains('Mercer, C.N., and Johnston, A.D. (2008)'))|(cpx_Glass['Citation_x'].str.contains('Alonso-Perez, R., Müntener, O., and Ulmer, P. (2009)'))\n",
      "C:\\Users\\penny\\anaconda3\\lib\\site-packages\\pandas\\core\\indexing.py:2120: FutureWarning: In a future version, the Index constructor will not infer numeric dtypes when passed object-dtype sequences (matching Series behavior)\n",
      "  new_ix = Index(new_ix)\n"
     ]
    }
   ],
   "source": [
    "out=pt.import_excel('Supporting_Data_1.xlsx', sheet_name='Cpx-Liq')\n",
    "myCpxs1=out['Cpxs']\n",
    "myLiquids1=out['Liqs']\n",
    "cpx_Glass=out['my_input']\n",
    "Cpx_Glass=cpx_Glass\n",
    "notinLEPR= cpx_Glass['Citation_x'].str.contains('notinLEPR')\n",
    "notinKeith=(cpx_Glass['Citation_x'].str.contains('Mercer, C.N., and Johnston, A.D. (2008)'))|(cpx_Glass['Citation_x'].str.contains('Alonso-Perez, R., Müntener, O., and Ulmer, P. (2009)'))\n",
    "newMask=notinLEPR|notinKeith\n",
    "OldMask=~newMask\n",
    "newMask=newMask.fillna(False)\n",
    "\n",
    "mask_1GPa=cpx_Glass['P_kbar_x']<13\n",
    "mask_1GPa=mask_1GPa.fillna(False)\n",
    "\n",
    "Press_new=mask_1GPa&newMask\n",
    "Press_new=Press_new.fillna(False)\n",
    "\n",
    "eq_tests=pt.calculate_cpx_liq_eq_tests(liq_comps=myLiquids1, cpx_comps=myCpxs1, P=cpx_Glass['P_kbar_x'], T=cpx_Glass['T_K_x'])\n",
    "\n",
    "sigma=1.5\n",
    "Eq_Mask=((eq_tests['Delta_EnFs_Mollo13']<0.05*sigma)\n",
    "        &(eq_tests['Delta_Kd_Put2008']<0.08))\n",
    "Cpx_Glass_Filt=Cpx_Glass.loc[Press_new]\n",
    "xT=cpx_Glass['T_K_x'].loc[Press_new&Eq_Mask]\n",
    "x=cpx_Glass['P_kbar_x'].loc[Press_new&Eq_Mask]\n",
    "x_All=cpx_Glass['P_kbar_x'].loc[Press_new]\n",
    "xT_All=cpx_Glass['T_K_x'].loc[Press_new]\n"
   ]
  },
  {
   "cell_type": "markdown",
   "metadata": {},
   "source": [
    "### Text about ArcPL experiment prevalence"
   ]
  },
  {
   "cell_type": "code",
   "execution_count": 27,
   "metadata": {},
   "outputs": [
    {
     "data": {
      "text/plain": [
       "array(['Tokyo', 'MIT', 'Macquarie', 0, 'Hannover', 'Orleans', 'ETH',\n",
       "       'USGS', 'Bristol', 'Menlo Park', 'NHM',\n",
       "       'Geological Survey of Japan'], dtype=object)"
      ]
     },
     "execution_count": 27,
     "metadata": {},
     "output_type": "execute_result"
    }
   ],
   "source": [
    "Cpx_Glass_Filt['Laboratory_x'].unique()"
   ]
  },
  {
   "cell_type": "code",
   "execution_count": 28,
   "metadata": {},
   "outputs": [
    {
     "name": "stdout",
     "output_type": "stream",
     "text": [
      "0.1\n"
     ]
    }
   ],
   "source": [
    "print(sum(Cpx_Glass_Filt['Laboratory_x']=='MIT')/len(Cpx_Glass_Filt))"
   ]
  },
  {
   "cell_type": "code",
   "execution_count": 29,
   "metadata": {},
   "outputs": [
    {
     "name": "stdout",
     "output_type": "stream",
     "text": [
      "0.4\n"
     ]
    }
   ],
   "source": [
    "print(sum(Cpx_Glass_Filt['Laboratory_x']=='Hannover')/len(Cpx_Glass_Filt))"
   ]
  },
  {
   "cell_type": "code",
   "execution_count": 49,
   "metadata": {},
   "outputs": [
    {
     "data": {
      "text/plain": [
       "61.83673469387755"
      ]
     },
     "execution_count": 49,
     "metadata": {},
     "output_type": "execute_result"
    }
   ],
   "source": [
    "NoCr_Cpx_New=Cpx_Glass_Filt['Cr2O3_Cpx']==0\n",
    "Cr_Cpx_New=Cpx_Glass_Filt['Cr2O3_Cpx']>0\n",
    "\n",
    "100*sum(NoCr_Cpx_New)/(sum(Cr_Cpx_New)+sum(NoCr_Cpx_New))"
   ]
  },
  {
   "cell_type": "code",
   "execution_count": 48,
   "metadata": {},
   "outputs": [
    {
     "data": {
      "text/plain": [
       "90.0"
      ]
     },
     "execution_count": 48,
     "metadata": {},
     "output_type": "execute_result"
    }
   ],
   "source": [
    "NoCr_Liq_New=Cpx_Glass_Filt['Cr2O3_Liq']==0\n",
    "Cr_Liq_New=Cpx_Glass_Filt['Cr2O3_Liq']>0\n",
    "\n",
    "100*sum(NoCr_Liq_New)/(sum(Cr_Liq_New)+sum(NoCr_Liq_New))"
   ]
  },
  {
   "cell_type": "markdown",
   "metadata": {},
   "source": [
    "## What ones don't report Cr"
   ]
  },
  {
   "cell_type": "code",
   "execution_count": 32,
   "metadata": {},
   "outputs": [
    {
     "data": {
      "text/plain": [
       "array(['Hamada2008_notinLEPR', 'Erdmann2016_notinLEPR',\n",
       "       'Berndt2005_notinLEPR', 'Costa2004_notinLEPR',\n",
       "       'Mandler2013_notinLEPR', 'Nandekar2014_notinLEPR',\n",
       "       'Blatter2013_notinLEPR', 'Melekhova2015_notinLEPR',\n",
       "       'Ulmer2018_notinLEPR', 'Almeev2013_notinLEPR',\n",
       "       'Andujar2015_notinLEPR', 'Cadoux2014_notinLEPR',\n",
       "       'Parat2014_notinLEPR', 'Sisson2005_notinLEPR',\n",
       "       'Koepke2018_notinLEPR', 'Husen2016_notinLEPR',\n",
       "       'Erdman_Koepke2016_notinLEPR', 'Marxer2022_notinLEPR',\n",
       "       'Nakatani2022_notinLEPR'], dtype=object)"
      ]
     },
     "execution_count": 32,
     "metadata": {},
     "output_type": "execute_result"
    }
   ],
   "source": [
    "# Hamada, all zeros- Use synthetic starting mateiral, dont seem to add any Cr\n",
    "# Erdmann, al zeros - Natural starting material, but don't report Cr for it. \n",
    "# Berndt all zeros - Natural and synthetic starting materials - No mention of Cr. \n",
    "# Mandler all zeros - Starting material, mafic pumice, has <5 ppm Cr basd on whole-rock. but with Kd of 10-50, could\n",
    "# be 250 ppm of Cr = 0.025\n",
    "# Nandekar all zeros - synthetic apparent near-primary ol-tholeiite (10 wt% MgO), \n",
    "#but add no Cr even though it seems in nature there would be Cr\n",
    "# Blatter, does have most\n",
    "# Melekhova does have most\n",
    "# Ulmer, does have most\n",
    "# Almeev, has none - Synthetic starting material, with no Cr. \n",
    "# Andujar has none - Use natural Balos Basalt , can't find Cr data for it. \n",
    "# cadoux has none - Natural high Si samples. \n",
    "# Parat has none - mafic and crystal-poor Arenal-type basalt -187 ppm Cr. \n",
    "#Using a Kd of 30, means 0.5 wt% Cr expected\n",
    "\n",
    "# Sisson does have most\n",
    "# Koepke2018 has none - synthetic starting material, no Cr. \n",
    "# Husen has most\n",
    "# Erdman has none - basaltic andesite stage 4 dome clasts, no mention of Cr. \n",
    "Cpx_Glass['Citation_x'].loc[(Cpx_Glass['Cr2O3_Cpx']==0) & (Press_new)].unique()"
   ]
  },
  {
   "cell_type": "code",
   "execution_count": 33,
   "metadata": {},
   "outputs": [],
   "source": [
    "# Getting values to loop over, this is using all of them, but you could do a subset for a larger dataset. \n",
    "index2=Cpx_Glass_Filt.index.values\n",
    "sam=np.ndarray.tolist(index2)"
   ]
  },
  {
   "cell_type": "code",
   "execution_count": 34,
   "metadata": {},
   "outputs": [
    {
     "data": {
      "text/plain": [
       "490"
      ]
     },
     "execution_count": 34,
     "metadata": {},
     "output_type": "execute_result"
    }
   ],
   "source": [
    "len(sam)"
   ]
  },
  {
   "cell_type": "markdown",
   "metadata": {},
   "source": [
    "## Step 1 - Calculate P and T for measured Cr content for Cpx-Liq"
   ]
  },
  {
   "cell_type": "code",
   "execution_count": 35,
   "metadata": {},
   "outputs": [
    {
     "name": "stdout",
     "output_type": "stream",
     "text": [
      "Youve selected a P-independent function\n"
     ]
    }
   ],
   "source": [
    "import warnings as w\n",
    "with w.catch_warnings():\n",
    "    w.simplefilter('ignore')\n",
    "\n",
    "    # Cpx-Liq using measured Cr Contents.   \n",
    "\n",
    "    #Eq 31-33 \n",
    "    Eq3133M=pt.calculate_cpx_liq_press_temp(liq_comps=myLiquids1.loc[sam].reset_index(drop=True), \n",
    "                                                     cpx_comps=myCpxs1.loc[sam].reset_index(drop=True), \n",
    "                                          equationP=\"P_Put2008_eq31\", equationT=\"T_Put2008_eq33\",\n",
    "                                         )\n",
    "    Cr_31_T33_P_Meas=Eq3133M.P_kbar_calc\n",
    "    Cr_31_T33_T_Meas=Eq3133M.T_K_calc\n",
    "\n",
    "\n",
    "    # 32c 33\n",
    "\n",
    "\n",
    "    Eq32c33M=pt.calculate_cpx_liq_press_temp(liq_comps=myLiquids1.loc[sam].reset_index(drop=True), \n",
    "                                                      cpx_comps=myCpxs1.loc[sam].reset_index(drop=True), \n",
    "                                          equationP=\"P_Put2008_eq32c\", equationT=\"T_Put2008_eq33\")\n",
    "\n",
    "\n",
    "    Cr_32c_T33_P_Meas=Eq32c33M.P_kbar_calc\n",
    "    Cr_32c_T33_T_Meas=Eq32c33M.T_K_calc\n",
    "\n",
    "\n",
    "    # Neave and eq 33\n",
    "\n",
    "    NT33M=pt.calculate_cpx_liq_press_temp(liq_comps=myLiquids1.loc[sam].reset_index(drop=True), \n",
    "                                                        cpx_comps=myCpxs1.loc[sam].reset_index(drop=True), \n",
    "                                          equationP=\"P_Neave2017\", equationT=\"T_Put2008_eq33\")\n",
    "    Cr_Neave_T33_P_Meas=NT33M.P_kbar_calc\n",
    "    Cr_Neave_T33_T_Meas=NT33M.T_K_calc\n",
    "\n",
    "\n",
    "    # 32c 1996\n",
    "\n",
    "    Eq32c1996M=pt.calculate_cpx_liq_press_temp(liq_comps=myLiquids1.loc[sam].reset_index(drop=True), \n",
    "                                                      cpx_comps=myCpxs1.loc[sam].reset_index(drop=True), \n",
    "                                          equationP=\"P_Put2008_eq32c\", equationT=\"T_Put1996_eqT1\")\n",
    "\n",
    "\n",
    "    Cr_32c_1996_T_Meas=Eq32c1996M.T_K_calc\n",
    "    Cr_32c_1996_P_Meas=Eq32c1996M.P_kbar_calc\n",
    "\n",
    "\n",
    "\n",
    "    # Petrelli\n",
    "    Cr_Pet_T_Meas=pt.calculate_cpx_liq_temp(liq_comps=myLiquids1.loc[sam].reset_index(drop=True), \n",
    "                                                        cpx_comps=myCpxs1.loc[sam].reset_index(drop=True), \n",
    "                                          equationT=\"T_Petrelli2020_Cpx_Liq\").T_K_calc\n",
    "\n",
    "    Cr_Pet_P_Meas=pt.calculate_cpx_liq_press(liq_comps=myLiquids1.loc[sam].reset_index(drop=True), \n",
    "                                                        cpx_comps=myCpxs1.loc[sam].reset_index(drop=True), \n",
    "                                          equationP=\"P_Petrelli2020_Cpx_Liq\").P_kbar_calc \n"
   ]
  },
  {
   "cell_type": "markdown",
   "metadata": {},
   "source": [
    "## Same calculations with Cr=0"
   ]
  },
  {
   "cell_type": "code",
   "execution_count": 36,
   "metadata": {},
   "outputs": [
    {
     "name": "stdout",
     "output_type": "stream",
     "text": [
      "Youve selected a P-independent function\n"
     ]
    }
   ],
   "source": [
    "import warnings as w\n",
    "with w.catch_warnings():\n",
    "    w.simplefilter('ignore')\n",
    "    \n",
    "    myCpxs2=myCpxs1.copy()\n",
    "    myCpxs2['Cr2O3_Cpx']=0\n",
    "\n",
    "\n",
    "\n",
    "\n",
    "    # Cpx-Liq using Cr=0 \n",
    "\n",
    "    #Eq 31-33 \n",
    "    Eq3133Z=pt.calculate_cpx_liq_press_temp(liq_comps=myLiquids1.loc[sam].reset_index(drop=True), \n",
    "                                                     cpx_comps=myCpxs2.loc[sam].reset_index(drop=True), \n",
    "                                          equationP=\"P_Put2008_eq31\", equationT=\"T_Put2008_eq33\",\n",
    "                                         )\n",
    "    Cr_31_T33_P_NoCr=Eq3133Z.P_kbar_calc\n",
    "    Cr_31_T33_T_NoCr=Eq3133Z.T_K_calc\n",
    "\n",
    "\n",
    "    # 32c 33\n",
    "\n",
    "\n",
    "    Eq32c33Z=pt.calculate_cpx_liq_press_temp(liq_comps=myLiquids1.loc[sam].reset_index(drop=True), \n",
    "                                                      cpx_comps=myCpxs2.loc[sam].reset_index(drop=True), \n",
    "                                          equationP=\"P_Put2008_eq32c\", equationT=\"T_Put2008_eq33\")\n",
    "\n",
    "\n",
    "    Cr_32c_T33_P_NoCr=Eq32c33Z.P_kbar_calc\n",
    "    Cr_32c_T33_T_NoCr=Eq32c33Z.T_K_calc\n",
    "\n",
    "\n",
    "    # Neave and eq 33\n",
    "\n",
    "    NT33Z=pt.calculate_cpx_liq_press_temp(liq_comps=myLiquids1.loc[sam].reset_index(drop=True), \n",
    "                                                        cpx_comps=myCpxs2.loc[sam].reset_index(drop=True), \n",
    "                                          equationP=\"P_Neave2017\", equationT=\"T_Put2008_eq33\")\n",
    "    Cr_Neave_T33_P_NoCr=NT33Z.P_kbar_calc\n",
    "    Cr_Neave_T33_T_NoCr=NT33Z.T_K_calc\n",
    "\n",
    "\n",
    "    # 32c 1996\n",
    "\n",
    "    Eq32c1996Z=pt.calculate_cpx_liq_press_temp(liq_comps=myLiquids1.loc[sam].reset_index(drop=True), \n",
    "                                                      cpx_comps=myCpxs2.loc[sam].reset_index(drop=True), \n",
    "                                          equationP=\"P_Put2008_eq32c\", equationT=\"T_Put1996_eqT1\")\n",
    "\n",
    "\n",
    "    Cr_32c_1996_T_NoCr=Eq32c1996Z.T_K_calc\n",
    "    Cr_32c_1996_P_NoCr=Eq32c1996Z.P_kbar_calc\n",
    "\n",
    "\n",
    "\n",
    "    # Petrelli\n",
    "    Cr_Pet_T_NoCr=pt.calculate_cpx_liq_temp(liq_comps=myLiquids1.loc[sam].reset_index(drop=True), \n",
    "                                                        cpx_comps=myCpxs2.loc[sam].reset_index(drop=True), \n",
    "                                          equationT=\"T_Petrelli2020_Cpx_Liq\").T_K_calc\n",
    "\n",
    "    Cr_Pet_P_NoCr=pt.calculate_cpx_liq_press(liq_comps=myLiquids1.loc[sam].reset_index(drop=True), \n",
    "                                                        cpx_comps=myCpxs2.loc[sam].reset_index(drop=True), \n",
    "                                          equationP=\"P_Petrelli2020_Cpx_Liq\").P_kbar_calc \n"
   ]
  },
  {
   "cell_type": "markdown",
   "metadata": {},
   "source": [
    "## Cpx-only calculations no Cr. "
   ]
  },
  {
   "cell_type": "code",
   "execution_count": 37,
   "metadata": {},
   "outputs": [
    {
     "name": "stdout",
     "output_type": "stream",
     "text": [
      "Weve reset the index of your Cpx compositions for Petrelli ML calculations, as non-consecative indexes or missing indices cause problems for iteration\n",
      "Weve reset the index of your Cpx compositions for Petrelli ML calculations, as non-consecative indexes or missing indices cause problems for iteration\n",
      "Weve reset the index of your Cpx compositions for Petrelli ML calculations, as non-consecative indexes or missing indices cause problems for iteration\n",
      "Weve reset the index of your Cpx compositions for Petrelli ML calculations, as non-consecative indexes or missing indices cause problems for iteration\n"
     ]
    }
   ],
   "source": [
    "import warnings as w\n",
    "with w.catch_warnings():\n",
    "    w.simplefilter('ignore')\n",
    "    # Cpx-only pressure calculations with Cr=0 (Cpxs2)\n",
    "    Cr_cpx_comp_Wang21_NoCr=pt.calculate_cpx_only_press(cpx_comps=myCpxs2.loc[sam],\n",
    "                            equationP=\"P_Wang2021_eq1\")\n",
    "\n",
    "    Cr_cpx_comp_Pet_NoCr=pt.calculate_cpx_only_press(cpx_comps=myCpxs2.loc[sam], \n",
    "                                    equationP=\"P_Petrelli2020_Cpx_only\").P_kbar_calc\n",
    "\n",
    "    Cr_cpx_comp_Put2008_NoCr=pt.calculate_cpx_only_press_temp(cpx_comps=myCpxs2.loc[sam],\n",
    "                                        equationP=\"P_Put2008_eq32b\",\n",
    "                                        equationT=\"T_Put2008_eq32d\").P_kbar_calc\n",
    "\n",
    "\n",
    "\n",
    "\n",
    "    # Cpx-only temperature calculations with Cr=0 (Cpxs2)\n",
    "    Cr_cpx_comp_Wang21_T_NoCr=pt.calculate_cpx_only_temp(cpx_comps=myCpxs2.loc[sam], \n",
    "                                                          equationT=\"T_Wang2021_eq2\")\n",
    "\n",
    "    Cr_cpx_comp_Pet_T_NoCr=pt.calculate_cpx_only_temp(cpx_comps=myCpxs2.loc[sam], \n",
    "                                    equationT=\"T_Petrelli2020_Cpx_only\").T_K_calc\n",
    "\n",
    "    Cr_cpx_comp_Put2008_T_NoCr=pt.calculate_cpx_only_press_temp(cpx_comps=myCpxs2.loc[sam],\n",
    "                                            equationP=\"P_Put2008_eq32b\",\n",
    "                                            equationT=\"T_Put2008_eq32d\").T_K_calc\n",
    "\n",
    "    # Cpx-only pressure calculations with Cr=meas (Cpxs1)\n",
    "\n",
    "    Cr_cpx_comp_Wang21_Meas=pt.calculate_cpx_only_press(cpx_comps=myCpxs1.loc[sam], \n",
    "                                                        equationP=\"P_Wang2021_eq1\")\n",
    "\n",
    "    Cr_cpx_comp_Pet_Meas=pt.calculate_cpx_only_press(cpx_comps=myCpxs1.loc[sam], \n",
    "                                       equationP=\"P_Petrelli2020_Cpx_only\").P_kbar_calc\n",
    "\n",
    "    Cr_cpx_comp_Put2008_Meas=pt.calculate_cpx_only_press_temp(cpx_comps=myCpxs1.loc[sam],\n",
    "                                                          equationP=\"P_Put2008_eq32b\",\n",
    "                                 equationT=\"T_Put2008_eq32d\").P_kbar_calc\n",
    "\n",
    "\n",
    "    # Cpx-only temperature calculations with Cr=meas (Cpxs1)\n",
    "\n",
    "    Cr_cpx_comp_Wang21_T_Meas=pt.calculate_cpx_only_temp(cpx_comps=myCpxs1.loc[sam], \n",
    "                                                          equationT=\"T_Wang2021_eq2\")\n",
    "    Cr_cpx_comp_Pet_T_Meas=pt.calculate_cpx_only_temp(cpx_comps=myCpxs1.loc[sam], \n",
    "                                                         equationT=\"T_Petrelli2020_Cpx_only\").T_K_calc\n",
    "\n",
    "    Cr_cpx_comp_Put2008_T_Meas=pt.calculate_cpx_only_press_temp(cpx_comps=myCpxs1.loc[sam],\n",
    "                                                                equationP=\"P_Put2008_eq32b\",\n",
    "                                                                 equationT=\"T_Put2008_eq32d\").T_K_calc\n"
   ]
  },
  {
   "cell_type": "markdown",
   "metadata": {},
   "source": [
    "## What do cation sums do     myCpxs2=myCpxs1.copy()\n",
    "    myCpxs2['Cr2O3_Cpx']=0"
   ]
  },
  {
   "cell_type": "code",
   "execution_count": 38,
   "metadata": {},
   "outputs": [
    {
     "name": "stderr",
     "output_type": "stream",
     "text": [
      "C:\\Users\\penny\\anaconda3\\lib\\site-packages\\pandas\\core\\indexing.py:2120: FutureWarning: In a future version, the Index constructor will not infer numeric dtypes when passed object-dtype sequences (matching Series behavior)\n",
      "  new_ix = Index(new_ix)\n",
      "C:\\Users\\penny\\anaconda3\\lib\\site-packages\\pandas\\core\\indexing.py:2120: FutureWarning: In a future version, the Index constructor will not infer numeric dtypes when passed object-dtype sequences (matching Series behavior)\n",
      "  new_ix = Index(new_ix)\n"
     ]
    }
   ],
   "source": [
    "cat_sums_original=pt.calculate_clinopyroxene_components(cpx_comps=myCpxs1)\n",
    "myCpxs2=myCpxs1.copy()\n",
    "myCpxs2['Cr2O3_Cpx']=0\n",
    "cat_sums_noCr=pt.calculate_clinopyroxene_components(cpx_comps=myCpxs2)    "
   ]
  },
  {
   "cell_type": "code",
   "execution_count": 39,
   "metadata": {},
   "outputs": [],
   "source": [
    "Cpx_with_Cr=cat_sums_original.loc[myCpxs1['Cr2O3_Cpx']>0]\n",
    "Cpx_with_noCr=cat_sums_original.loc[myCpxs1['Cr2O3_Cpx']==0]\n"
   ]
  },
  {
   "cell_type": "code",
   "execution_count": 40,
   "metadata": {},
   "outputs": [
    {
     "data": {
      "text/html": [
       "<div>\n",
       "<style scoped>\n",
       "    .dataframe tbody tr th:only-of-type {\n",
       "        vertical-align: middle;\n",
       "    }\n",
       "\n",
       "    .dataframe tbody tr th {\n",
       "        vertical-align: top;\n",
       "    }\n",
       "\n",
       "    .dataframe thead th {\n",
       "        text-align: right;\n",
       "    }\n",
       "</style>\n",
       "<table border=\"1\" class=\"dataframe\">\n",
       "  <thead>\n",
       "    <tr style=\"text-align: right;\">\n",
       "      <th></th>\n",
       "      <th>SiO2_Cpx</th>\n",
       "      <th>TiO2_Cpx</th>\n",
       "      <th>Al2O3_Cpx</th>\n",
       "      <th>FeOt_Cpx</th>\n",
       "      <th>MnO_Cpx</th>\n",
       "      <th>MgO_Cpx</th>\n",
       "      <th>CaO_Cpx</th>\n",
       "      <th>Na2O_Cpx</th>\n",
       "      <th>K2O_Cpx</th>\n",
       "      <th>Cr2O3_Cpx</th>\n",
       "      <th>Sample_ID_Cpx</th>\n",
       "      <th>Si_Cpx_cat_6ox</th>\n",
       "      <th>Mg_Cpx_cat_6ox</th>\n",
       "      <th>Fet_Cpx_cat_6ox</th>\n",
       "      <th>Ca_Cpx_cat_6ox</th>\n",
       "      <th>Al_Cpx_cat_6ox</th>\n",
       "      <th>Na_Cpx_cat_6ox</th>\n",
       "      <th>K_Cpx_cat_6ox</th>\n",
       "      <th>Mn_Cpx_cat_6ox</th>\n",
       "      <th>Ti_Cpx_cat_6ox</th>\n",
       "      <th>Cr_Cpx_cat_6ox</th>\n",
       "      <th>oxy_renorm_factor</th>\n",
       "      <th>Al_IV_cat_6ox</th>\n",
       "      <th>Al_VI_cat_6ox</th>\n",
       "      <th>En_Simple_MgFeCa_Cpx</th>\n",
       "      <th>Fs_Simple_MgFeCa_Cpx</th>\n",
       "      <th>Wo_Simple_MgFeCa_Cpx</th>\n",
       "      <th>Cation_Sum_Cpx</th>\n",
       "      <th>Ca_CaMgFe</th>\n",
       "      <th>Lindley_Fe3_Cpx</th>\n",
       "      <th>Lindley_Fe2_Cpx</th>\n",
       "      <th>Lindley_Fe3_Cpx_prop</th>\n",
       "      <th>CrCaTs</th>\n",
       "      <th>a_cpx_En</th>\n",
       "      <th>Mgno_Cpx</th>\n",
       "      <th>Jd</th>\n",
       "      <th>Jd_from 0=Na, 1=Al</th>\n",
       "      <th>CaTs</th>\n",
       "      <th>CaTi</th>\n",
       "      <th>DiHd_1996</th>\n",
       "      <th>EnFs</th>\n",
       "      <th>DiHd_2003</th>\n",
       "      <th>Di_Cpx</th>\n",
       "      <th>FeIII_Wang21</th>\n",
       "      <th>FeII_Wang21</th>\n",
       "    </tr>\n",
       "  </thead>\n",
       "  <tbody>\n",
       "    <tr>\n",
       "      <th>0</th>\n",
       "      <td>46.900002</td>\n",
       "      <td>1.070000</td>\n",
       "      <td>9.14000</td>\n",
       "      <td>10.700000</td>\n",
       "      <td>0.30000</td>\n",
       "      <td>10.000000</td>\n",
       "      <td>20.299999</td>\n",
       "      <td>0.59000</td>\n",
       "      <td>0.02000</td>\n",
       "      <td>0.0</td>\n",
       "      <td>0</td>\n",
       "      <td>1.780864</td>\n",
       "      <td>0.566065</td>\n",
       "      <td>0.339780</td>\n",
       "      <td>0.825899</td>\n",
       "      <td>0.409036</td>\n",
       "      <td>0.043437</td>\n",
       "      <td>0.000969</td>\n",
       "      <td>0.009649</td>\n",
       "      <td>0.030561</td>\n",
       "      <td>0.0</td>\n",
       "      <td>0.0</td>\n",
       "      <td>0.219136</td>\n",
       "      <td>0.189900</td>\n",
       "      <td>0.326876</td>\n",
       "      <td>0.196207</td>\n",
       "      <td>0.476918</td>\n",
       "      <td>4.006260</td>\n",
       "      <td>0.476918</td>\n",
       "      <td>0.011550</td>\n",
       "      <td>0.328230</td>\n",
       "      <td>0.033994</td>\n",
       "      <td>0.0</td>\n",
       "      <td>0.100291</td>\n",
       "      <td>0.624895</td>\n",
       "      <td>0.043437</td>\n",
       "      <td>0</td>\n",
       "      <td>0.146463</td>\n",
       "      <td>0.036336</td>\n",
       "      <td>0.643100</td>\n",
       "      <td>0.131373</td>\n",
       "      <td>0.643100</td>\n",
       "      <td>0.397640</td>\n",
       "      <td>0.011550</td>\n",
       "      <td>0.328230</td>\n",
       "    </tr>\n",
       "    <tr>\n",
       "      <th>1</th>\n",
       "      <td>48.099998</td>\n",
       "      <td>0.850000</td>\n",
       "      <td>8.32000</td>\n",
       "      <td>12.300000</td>\n",
       "      <td>0.29000</td>\n",
       "      <td>10.500000</td>\n",
       "      <td>18.500000</td>\n",
       "      <td>0.71000</td>\n",
       "      <td>0.01000</td>\n",
       "      <td>0.0</td>\n",
       "      <td>1</td>\n",
       "      <td>1.816364</td>\n",
       "      <td>0.591093</td>\n",
       "      <td>0.388435</td>\n",
       "      <td>0.748519</td>\n",
       "      <td>0.370287</td>\n",
       "      <td>0.051983</td>\n",
       "      <td>0.000482</td>\n",
       "      <td>0.009276</td>\n",
       "      <td>0.024144</td>\n",
       "      <td>0.0</td>\n",
       "      <td>0.0</td>\n",
       "      <td>0.183636</td>\n",
       "      <td>0.186650</td>\n",
       "      <td>0.342058</td>\n",
       "      <td>0.224783</td>\n",
       "      <td>0.433159</td>\n",
       "      <td>4.000582</td>\n",
       "      <td>0.433159</td>\n",
       "      <td>0.000681</td>\n",
       "      <td>0.387754</td>\n",
       "      <td>0.001754</td>\n",
       "      <td>0.0</td>\n",
       "      <td>0.156949</td>\n",
       "      <td>0.603438</td>\n",
       "      <td>0.051983</td>\n",
       "      <td>0</td>\n",
       "      <td>0.134667</td>\n",
       "      <td>0.024485</td>\n",
       "      <td>0.589367</td>\n",
       "      <td>0.195081</td>\n",
       "      <td>0.589367</td>\n",
       "      <td>0.352315</td>\n",
       "      <td>0.000681</td>\n",
       "      <td>0.387754</td>\n",
       "    </tr>\n",
       "    <tr>\n",
       "      <th>2</th>\n",
       "      <td>48.299999</td>\n",
       "      <td>0.710000</td>\n",
       "      <td>7.80000</td>\n",
       "      <td>11.200000</td>\n",
       "      <td>0.40000</td>\n",
       "      <td>12.200000</td>\n",
       "      <td>19.200001</td>\n",
       "      <td>0.60000</td>\n",
       "      <td>0.04000</td>\n",
       "      <td>0.0</td>\n",
       "      <td>2</td>\n",
       "      <td>1.805281</td>\n",
       "      <td>0.679776</td>\n",
       "      <td>0.350084</td>\n",
       "      <td>0.768904</td>\n",
       "      <td>0.343597</td>\n",
       "      <td>0.043481</td>\n",
       "      <td>0.001907</td>\n",
       "      <td>0.012663</td>\n",
       "      <td>0.019961</td>\n",
       "      <td>0.0</td>\n",
       "      <td>0.0</td>\n",
       "      <td>0.194719</td>\n",
       "      <td>0.148878</td>\n",
       "      <td>0.377913</td>\n",
       "      <td>0.194625</td>\n",
       "      <td>0.427462</td>\n",
       "      <td>4.025654</td>\n",
       "      <td>0.427462</td>\n",
       "      <td>0.049400</td>\n",
       "      <td>0.300684</td>\n",
       "      <td>0.141109</td>\n",
       "      <td>0.0</td>\n",
       "      <td>0.149589</td>\n",
       "      <td>0.660059</td>\n",
       "      <td>0.043481</td>\n",
       "      <td>0</td>\n",
       "      <td>0.105397</td>\n",
       "      <td>0.044661</td>\n",
       "      <td>0.618846</td>\n",
       "      <td>0.205507</td>\n",
       "      <td>0.618846</td>\n",
       "      <td>0.403518</td>\n",
       "      <td>0.049400</td>\n",
       "      <td>0.300684</td>\n",
       "    </tr>\n",
       "    <tr>\n",
       "      <th>3</th>\n",
       "      <td>48.799999</td>\n",
       "      <td>0.640000</td>\n",
       "      <td>6.53000</td>\n",
       "      <td>16.200001</td>\n",
       "      <td>0.50000</td>\n",
       "      <td>10.100000</td>\n",
       "      <td>16.400000</td>\n",
       "      <td>0.64000</td>\n",
       "      <td>0.07000</td>\n",
       "      <td>0.0</td>\n",
       "      <td>3</td>\n",
       "      <td>1.860560</td>\n",
       "      <td>0.574056</td>\n",
       "      <td>0.516529</td>\n",
       "      <td>0.669948</td>\n",
       "      <td>0.293423</td>\n",
       "      <td>0.047310</td>\n",
       "      <td>0.003405</td>\n",
       "      <td>0.016147</td>\n",
       "      <td>0.018354</td>\n",
       "      <td>0.0</td>\n",
       "      <td>0.0</td>\n",
       "      <td>0.139440</td>\n",
       "      <td>0.153983</td>\n",
       "      <td>0.326069</td>\n",
       "      <td>0.293394</td>\n",
       "      <td>0.380537</td>\n",
       "      <td>3.999731</td>\n",
       "      <td>0.380537</td>\n",
       "      <td>0.000000</td>\n",
       "      <td>0.516529</td>\n",
       "      <td>0.000000</td>\n",
       "      <td>0.0</td>\n",
       "      <td>0.231272</td>\n",
       "      <td>0.526366</td>\n",
       "      <td>0.047310</td>\n",
       "      <td>0</td>\n",
       "      <td>0.106674</td>\n",
       "      <td>0.016383</td>\n",
       "      <td>0.546891</td>\n",
       "      <td>0.271847</td>\n",
       "      <td>0.546891</td>\n",
       "      <td>0.283669</td>\n",
       "      <td>-0.003942</td>\n",
       "      <td>0.520472</td>\n",
       "    </tr>\n",
       "    <tr>\n",
       "      <th>37</th>\n",
       "      <td>51.750000</td>\n",
       "      <td>0.260000</td>\n",
       "      <td>2.43000</td>\n",
       "      <td>6.050000</td>\n",
       "      <td>0.17000</td>\n",
       "      <td>16.510000</td>\n",
       "      <td>21.330000</td>\n",
       "      <td>0.33000</td>\n",
       "      <td>0.00000</td>\n",
       "      <td>0.0</td>\n",
       "      <td>37</td>\n",
       "      <td>1.926453</td>\n",
       "      <td>0.916228</td>\n",
       "      <td>0.188347</td>\n",
       "      <td>0.850770</td>\n",
       "      <td>0.106613</td>\n",
       "      <td>0.023818</td>\n",
       "      <td>0.000000</td>\n",
       "      <td>0.005360</td>\n",
       "      <td>0.007280</td>\n",
       "      <td>0.0</td>\n",
       "      <td>0.0</td>\n",
       "      <td>0.073547</td>\n",
       "      <td>0.033066</td>\n",
       "      <td>0.468576</td>\n",
       "      <td>0.096324</td>\n",
       "      <td>0.435099</td>\n",
       "      <td>4.024870</td>\n",
       "      <td>0.435099</td>\n",
       "      <td>0.049739</td>\n",
       "      <td>0.138608</td>\n",
       "      <td>0.264082</td>\n",
       "      <td>0.0</td>\n",
       "      <td>0.117233</td>\n",
       "      <td>0.829480</td>\n",
       "      <td>0.023818</td>\n",
       "      <td>0</td>\n",
       "      <td>0.009248</td>\n",
       "      <td>0.032150</td>\n",
       "      <td>0.809372</td>\n",
       "      <td>0.147602</td>\n",
       "      <td>0.809372</td>\n",
       "      <td>0.668119</td>\n",
       "      <td>0.049739</td>\n",
       "      <td>0.138608</td>\n",
       "    </tr>\n",
       "    <tr>\n",
       "      <th>...</th>\n",
       "      <td>...</td>\n",
       "      <td>...</td>\n",
       "      <td>...</td>\n",
       "      <td>...</td>\n",
       "      <td>...</td>\n",
       "      <td>...</td>\n",
       "      <td>...</td>\n",
       "      <td>...</td>\n",
       "      <td>...</td>\n",
       "      <td>...</td>\n",
       "      <td>...</td>\n",
       "      <td>...</td>\n",
       "      <td>...</td>\n",
       "      <td>...</td>\n",
       "      <td>...</td>\n",
       "      <td>...</td>\n",
       "      <td>...</td>\n",
       "      <td>...</td>\n",
       "      <td>...</td>\n",
       "      <td>...</td>\n",
       "      <td>...</td>\n",
       "      <td>...</td>\n",
       "      <td>...</td>\n",
       "      <td>...</td>\n",
       "      <td>...</td>\n",
       "      <td>...</td>\n",
       "      <td>...</td>\n",
       "      <td>...</td>\n",
       "      <td>...</td>\n",
       "      <td>...</td>\n",
       "      <td>...</td>\n",
       "      <td>...</td>\n",
       "      <td>...</td>\n",
       "      <td>...</td>\n",
       "      <td>...</td>\n",
       "      <td>...</td>\n",
       "      <td>...</td>\n",
       "      <td>...</td>\n",
       "      <td>...</td>\n",
       "      <td>...</td>\n",
       "      <td>...</td>\n",
       "      <td>...</td>\n",
       "      <td>...</td>\n",
       "      <td>...</td>\n",
       "      <td>...</td>\n",
       "    </tr>\n",
       "    <tr>\n",
       "      <th>861</th>\n",
       "      <td>52.050896</td>\n",
       "      <td>0.412600</td>\n",
       "      <td>1.57460</td>\n",
       "      <td>11.582601</td>\n",
       "      <td>0.85630</td>\n",
       "      <td>14.671701</td>\n",
       "      <td>18.206402</td>\n",
       "      <td>0.20410</td>\n",
       "      <td>0.01440</td>\n",
       "      <td>0.0</td>\n",
       "      <td>861</td>\n",
       "      <td>1.957975</td>\n",
       "      <td>0.822750</td>\n",
       "      <td>0.364369</td>\n",
       "      <td>0.733798</td>\n",
       "      <td>0.069808</td>\n",
       "      <td>0.014886</td>\n",
       "      <td>0.000691</td>\n",
       "      <td>0.027283</td>\n",
       "      <td>0.011674</td>\n",
       "      <td>0.0</td>\n",
       "      <td>0.0</td>\n",
       "      <td>0.042025</td>\n",
       "      <td>0.027784</td>\n",
       "      <td>0.428311</td>\n",
       "      <td>0.189685</td>\n",
       "      <td>0.382004</td>\n",
       "      <td>4.003234</td>\n",
       "      <td>0.382004</td>\n",
       "      <td>0.005778</td>\n",
       "      <td>0.358591</td>\n",
       "      <td>0.015857</td>\n",
       "      <td>0.0</td>\n",
       "      <td>0.239926</td>\n",
       "      <td>0.693058</td>\n",
       "      <td>0.014886</td>\n",
       "      <td>0</td>\n",
       "      <td>0.012898</td>\n",
       "      <td>0.014563</td>\n",
       "      <td>0.706336</td>\n",
       "      <td>0.240391</td>\n",
       "      <td>0.706336</td>\n",
       "      <td>0.478539</td>\n",
       "      <td>0.005778</td>\n",
       "      <td>0.358591</td>\n",
       "    </tr>\n",
       "    <tr>\n",
       "      <th>862</th>\n",
       "      <td>52.040802</td>\n",
       "      <td>0.540200</td>\n",
       "      <td>1.86220</td>\n",
       "      <td>10.797400</td>\n",
       "      <td>0.82140</td>\n",
       "      <td>14.709801</td>\n",
       "      <td>18.270199</td>\n",
       "      <td>0.22480</td>\n",
       "      <td>0.02500</td>\n",
       "      <td>0.0</td>\n",
       "      <td>862</td>\n",
       "      <td>1.955806</td>\n",
       "      <td>0.824133</td>\n",
       "      <td>0.339357</td>\n",
       "      <td>0.735696</td>\n",
       "      <td>0.082483</td>\n",
       "      <td>0.016380</td>\n",
       "      <td>0.001199</td>\n",
       "      <td>0.026147</td>\n",
       "      <td>0.015271</td>\n",
       "      <td>0.0</td>\n",
       "      <td>0.0</td>\n",
       "      <td>0.044194</td>\n",
       "      <td>0.038289</td>\n",
       "      <td>0.433940</td>\n",
       "      <td>0.178686</td>\n",
       "      <td>0.387374</td>\n",
       "      <td>3.996471</td>\n",
       "      <td>0.387374</td>\n",
       "      <td>0.000000</td>\n",
       "      <td>0.339357</td>\n",
       "      <td>0.000000</td>\n",
       "      <td>0.0</td>\n",
       "      <td>0.234381</td>\n",
       "      <td>0.708321</td>\n",
       "      <td>0.016380</td>\n",
       "      <td>0</td>\n",
       "      <td>0.021909</td>\n",
       "      <td>0.011143</td>\n",
       "      <td>0.702644</td>\n",
       "      <td>0.230423</td>\n",
       "      <td>0.702644</td>\n",
       "      <td>0.486764</td>\n",
       "      <td>-0.008256</td>\n",
       "      <td>0.347613</td>\n",
       "    </tr>\n",
       "    <tr>\n",
       "      <th>863</th>\n",
       "      <td>52.050838</td>\n",
       "      <td>0.570917</td>\n",
       "      <td>1.97225</td>\n",
       "      <td>10.900917</td>\n",
       "      <td>0.69875</td>\n",
       "      <td>14.550500</td>\n",
       "      <td>18.578165</td>\n",
       "      <td>0.23575</td>\n",
       "      <td>0.01800</td>\n",
       "      <td>0.0</td>\n",
       "      <td>863</td>\n",
       "      <td>1.951999</td>\n",
       "      <td>0.813464</td>\n",
       "      <td>0.341878</td>\n",
       "      <td>0.746497</td>\n",
       "      <td>0.087171</td>\n",
       "      <td>0.017142</td>\n",
       "      <td>0.000861</td>\n",
       "      <td>0.022195</td>\n",
       "      <td>0.016105</td>\n",
       "      <td>0.0</td>\n",
       "      <td>0.0</td>\n",
       "      <td>0.048001</td>\n",
       "      <td>0.039170</td>\n",
       "      <td>0.427725</td>\n",
       "      <td>0.179762</td>\n",
       "      <td>0.392513</td>\n",
       "      <td>3.997312</td>\n",
       "      <td>0.392513</td>\n",
       "      <td>0.000000</td>\n",
       "      <td>0.341878</td>\n",
       "      <td>0.000000</td>\n",
       "      <td>0.0</td>\n",
       "      <td>0.223116</td>\n",
       "      <td>0.704083</td>\n",
       "      <td>0.017142</td>\n",
       "      <td>0</td>\n",
       "      <td>0.022029</td>\n",
       "      <td>0.012986</td>\n",
       "      <td>0.711482</td>\n",
       "      <td>0.221930</td>\n",
       "      <td>0.711482</td>\n",
       "      <td>0.491505</td>\n",
       "      <td>-0.006238</td>\n",
       "      <td>0.348116</td>\n",
       "    </tr>\n",
       "    <tr>\n",
       "      <th>864</th>\n",
       "      <td>53.134750</td>\n",
       "      <td>0.358250</td>\n",
       "      <td>1.27350</td>\n",
       "      <td>9.903875</td>\n",
       "      <td>0.72850</td>\n",
       "      <td>15.471625</td>\n",
       "      <td>18.879126</td>\n",
       "      <td>0.20975</td>\n",
       "      <td>0.00625</td>\n",
       "      <td>0.0</td>\n",
       "      <td>864</td>\n",
       "      <td>1.974544</td>\n",
       "      <td>0.857102</td>\n",
       "      <td>0.307786</td>\n",
       "      <td>0.751698</td>\n",
       "      <td>0.055776</td>\n",
       "      <td>0.015113</td>\n",
       "      <td>0.000296</td>\n",
       "      <td>0.022930</td>\n",
       "      <td>0.010014</td>\n",
       "      <td>0.0</td>\n",
       "      <td>0.0</td>\n",
       "      <td>0.025456</td>\n",
       "      <td>0.030320</td>\n",
       "      <td>0.447203</td>\n",
       "      <td>0.160591</td>\n",
       "      <td>0.392207</td>\n",
       "      <td>3.995259</td>\n",
       "      <td>0.392207</td>\n",
       "      <td>0.000000</td>\n",
       "      <td>0.307786</td>\n",
       "      <td>0.000000</td>\n",
       "      <td>0.0</td>\n",
       "      <td>0.224604</td>\n",
       "      <td>0.735774</td>\n",
       "      <td>0.015113</td>\n",
       "      <td>0</td>\n",
       "      <td>0.015207</td>\n",
       "      <td>0.005124</td>\n",
       "      <td>0.731366</td>\n",
       "      <td>0.216761</td>\n",
       "      <td>0.731366</td>\n",
       "      <td>0.527737</td>\n",
       "      <td>-0.009779</td>\n",
       "      <td>0.317565</td>\n",
       "    </tr>\n",
       "    <tr>\n",
       "      <th>865</th>\n",
       "      <td>52.857998</td>\n",
       "      <td>0.559000</td>\n",
       "      <td>2.09300</td>\n",
       "      <td>11.825000</td>\n",
       "      <td>0.74800</td>\n",
       "      <td>15.159500</td>\n",
       "      <td>17.040001</td>\n",
       "      <td>0.18950</td>\n",
       "      <td>0.00600</td>\n",
       "      <td>0.0</td>\n",
       "      <td>865</td>\n",
       "      <td>1.959832</td>\n",
       "      <td>0.837918</td>\n",
       "      <td>0.366661</td>\n",
       "      <td>0.676941</td>\n",
       "      <td>0.091461</td>\n",
       "      <td>0.013623</td>\n",
       "      <td>0.000284</td>\n",
       "      <td>0.023491</td>\n",
       "      <td>0.015590</td>\n",
       "      <td>0.0</td>\n",
       "      <td>0.0</td>\n",
       "      <td>0.040168</td>\n",
       "      <td>0.051293</td>\n",
       "      <td>0.445341</td>\n",
       "      <td>0.194875</td>\n",
       "      <td>0.359784</td>\n",
       "      <td>3.985801</td>\n",
       "      <td>0.359784</td>\n",
       "      <td>0.000000</td>\n",
       "      <td>0.366661</td>\n",
       "      <td>0.000000</td>\n",
       "      <td>0.0</td>\n",
       "      <td>0.292865</td>\n",
       "      <td>0.695603</td>\n",
       "      <td>0.013623</td>\n",
       "      <td>0</td>\n",
       "      <td>0.037670</td>\n",
       "      <td>0.001249</td>\n",
       "      <td>0.638022</td>\n",
       "      <td>0.283279</td>\n",
       "      <td>0.638022</td>\n",
       "      <td>0.435326</td>\n",
       "      <td>-0.028682</td>\n",
       "      <td>0.395344</td>\n",
       "    </tr>\n",
       "  </tbody>\n",
       "</table>\n",
       "<p>469 rows × 45 columns</p>\n",
       "</div>"
      ],
      "text/plain": [
       "      SiO2_Cpx  TiO2_Cpx  Al2O3_Cpx   FeOt_Cpx  MnO_Cpx    MgO_Cpx    CaO_Cpx  \\\n",
       "0    46.900002  1.070000    9.14000  10.700000  0.30000  10.000000  20.299999   \n",
       "1    48.099998  0.850000    8.32000  12.300000  0.29000  10.500000  18.500000   \n",
       "2    48.299999  0.710000    7.80000  11.200000  0.40000  12.200000  19.200001   \n",
       "3    48.799999  0.640000    6.53000  16.200001  0.50000  10.100000  16.400000   \n",
       "37   51.750000  0.260000    2.43000   6.050000  0.17000  16.510000  21.330000   \n",
       "..         ...       ...        ...        ...      ...        ...        ...   \n",
       "861  52.050896  0.412600    1.57460  11.582601  0.85630  14.671701  18.206402   \n",
       "862  52.040802  0.540200    1.86220  10.797400  0.82140  14.709801  18.270199   \n",
       "863  52.050838  0.570917    1.97225  10.900917  0.69875  14.550500  18.578165   \n",
       "864  53.134750  0.358250    1.27350   9.903875  0.72850  15.471625  18.879126   \n",
       "865  52.857998  0.559000    2.09300  11.825000  0.74800  15.159500  17.040001   \n",
       "\n",
       "     Na2O_Cpx  K2O_Cpx  Cr2O3_Cpx  Sample_ID_Cpx  Si_Cpx_cat_6ox  \\\n",
       "0     0.59000  0.02000        0.0              0        1.780864   \n",
       "1     0.71000  0.01000        0.0              1        1.816364   \n",
       "2     0.60000  0.04000        0.0              2        1.805281   \n",
       "3     0.64000  0.07000        0.0              3        1.860560   \n",
       "37    0.33000  0.00000        0.0             37        1.926453   \n",
       "..        ...      ...        ...            ...             ...   \n",
       "861   0.20410  0.01440        0.0            861        1.957975   \n",
       "862   0.22480  0.02500        0.0            862        1.955806   \n",
       "863   0.23575  0.01800        0.0            863        1.951999   \n",
       "864   0.20975  0.00625        0.0            864        1.974544   \n",
       "865   0.18950  0.00600        0.0            865        1.959832   \n",
       "\n",
       "     Mg_Cpx_cat_6ox  Fet_Cpx_cat_6ox  Ca_Cpx_cat_6ox  Al_Cpx_cat_6ox  \\\n",
       "0          0.566065         0.339780        0.825899        0.409036   \n",
       "1          0.591093         0.388435        0.748519        0.370287   \n",
       "2          0.679776         0.350084        0.768904        0.343597   \n",
       "3          0.574056         0.516529        0.669948        0.293423   \n",
       "37         0.916228         0.188347        0.850770        0.106613   \n",
       "..              ...              ...             ...             ...   \n",
       "861        0.822750         0.364369        0.733798        0.069808   \n",
       "862        0.824133         0.339357        0.735696        0.082483   \n",
       "863        0.813464         0.341878        0.746497        0.087171   \n",
       "864        0.857102         0.307786        0.751698        0.055776   \n",
       "865        0.837918         0.366661        0.676941        0.091461   \n",
       "\n",
       "     Na_Cpx_cat_6ox  K_Cpx_cat_6ox  Mn_Cpx_cat_6ox  Ti_Cpx_cat_6ox  \\\n",
       "0          0.043437       0.000969        0.009649        0.030561   \n",
       "1          0.051983       0.000482        0.009276        0.024144   \n",
       "2          0.043481       0.001907        0.012663        0.019961   \n",
       "3          0.047310       0.003405        0.016147        0.018354   \n",
       "37         0.023818       0.000000        0.005360        0.007280   \n",
       "..              ...            ...             ...             ...   \n",
       "861        0.014886       0.000691        0.027283        0.011674   \n",
       "862        0.016380       0.001199        0.026147        0.015271   \n",
       "863        0.017142       0.000861        0.022195        0.016105   \n",
       "864        0.015113       0.000296        0.022930        0.010014   \n",
       "865        0.013623       0.000284        0.023491        0.015590   \n",
       "\n",
       "     Cr_Cpx_cat_6ox  oxy_renorm_factor  Al_IV_cat_6ox  Al_VI_cat_6ox  \\\n",
       "0               0.0                0.0       0.219136       0.189900   \n",
       "1               0.0                0.0       0.183636       0.186650   \n",
       "2               0.0                0.0       0.194719       0.148878   \n",
       "3               0.0                0.0       0.139440       0.153983   \n",
       "37              0.0                0.0       0.073547       0.033066   \n",
       "..              ...                ...            ...            ...   \n",
       "861             0.0                0.0       0.042025       0.027784   \n",
       "862             0.0                0.0       0.044194       0.038289   \n",
       "863             0.0                0.0       0.048001       0.039170   \n",
       "864             0.0                0.0       0.025456       0.030320   \n",
       "865             0.0                0.0       0.040168       0.051293   \n",
       "\n",
       "     En_Simple_MgFeCa_Cpx  Fs_Simple_MgFeCa_Cpx  Wo_Simple_MgFeCa_Cpx  \\\n",
       "0                0.326876              0.196207              0.476918   \n",
       "1                0.342058              0.224783              0.433159   \n",
       "2                0.377913              0.194625              0.427462   \n",
       "3                0.326069              0.293394              0.380537   \n",
       "37               0.468576              0.096324              0.435099   \n",
       "..                    ...                   ...                   ...   \n",
       "861              0.428311              0.189685              0.382004   \n",
       "862              0.433940              0.178686              0.387374   \n",
       "863              0.427725              0.179762              0.392513   \n",
       "864              0.447203              0.160591              0.392207   \n",
       "865              0.445341              0.194875              0.359784   \n",
       "\n",
       "     Cation_Sum_Cpx  Ca_CaMgFe  Lindley_Fe3_Cpx  Lindley_Fe2_Cpx  \\\n",
       "0          4.006260   0.476918         0.011550         0.328230   \n",
       "1          4.000582   0.433159         0.000681         0.387754   \n",
       "2          4.025654   0.427462         0.049400         0.300684   \n",
       "3          3.999731   0.380537         0.000000         0.516529   \n",
       "37         4.024870   0.435099         0.049739         0.138608   \n",
       "..              ...        ...              ...              ...   \n",
       "861        4.003234   0.382004         0.005778         0.358591   \n",
       "862        3.996471   0.387374         0.000000         0.339357   \n",
       "863        3.997312   0.392513         0.000000         0.341878   \n",
       "864        3.995259   0.392207         0.000000         0.307786   \n",
       "865        3.985801   0.359784         0.000000         0.366661   \n",
       "\n",
       "     Lindley_Fe3_Cpx_prop  CrCaTs  a_cpx_En  Mgno_Cpx        Jd  \\\n",
       "0                0.033994     0.0  0.100291  0.624895  0.043437   \n",
       "1                0.001754     0.0  0.156949  0.603438  0.051983   \n",
       "2                0.141109     0.0  0.149589  0.660059  0.043481   \n",
       "3                0.000000     0.0  0.231272  0.526366  0.047310   \n",
       "37               0.264082     0.0  0.117233  0.829480  0.023818   \n",
       "..                    ...     ...       ...       ...       ...   \n",
       "861              0.015857     0.0  0.239926  0.693058  0.014886   \n",
       "862              0.000000     0.0  0.234381  0.708321  0.016380   \n",
       "863              0.000000     0.0  0.223116  0.704083  0.017142   \n",
       "864              0.000000     0.0  0.224604  0.735774  0.015113   \n",
       "865              0.000000     0.0  0.292865  0.695603  0.013623   \n",
       "\n",
       "     Jd_from 0=Na, 1=Al      CaTs      CaTi  DiHd_1996      EnFs  DiHd_2003  \\\n",
       "0                     0  0.146463  0.036336   0.643100  0.131373   0.643100   \n",
       "1                     0  0.134667  0.024485   0.589367  0.195081   0.589367   \n",
       "2                     0  0.105397  0.044661   0.618846  0.205507   0.618846   \n",
       "3                     0  0.106674  0.016383   0.546891  0.271847   0.546891   \n",
       "37                    0  0.009248  0.032150   0.809372  0.147602   0.809372   \n",
       "..                  ...       ...       ...        ...       ...        ...   \n",
       "861                   0  0.012898  0.014563   0.706336  0.240391   0.706336   \n",
       "862                   0  0.021909  0.011143   0.702644  0.230423   0.702644   \n",
       "863                   0  0.022029  0.012986   0.711482  0.221930   0.711482   \n",
       "864                   0  0.015207  0.005124   0.731366  0.216761   0.731366   \n",
       "865                   0  0.037670  0.001249   0.638022  0.283279   0.638022   \n",
       "\n",
       "       Di_Cpx  FeIII_Wang21  FeII_Wang21  \n",
       "0    0.397640      0.011550     0.328230  \n",
       "1    0.352315      0.000681     0.387754  \n",
       "2    0.403518      0.049400     0.300684  \n",
       "3    0.283669     -0.003942     0.520472  \n",
       "37   0.668119      0.049739     0.138608  \n",
       "..        ...           ...          ...  \n",
       "861  0.478539      0.005778     0.358591  \n",
       "862  0.486764     -0.008256     0.347613  \n",
       "863  0.491505     -0.006238     0.348116  \n",
       "864  0.527737     -0.009779     0.317565  \n",
       "865  0.435326     -0.028682     0.395344  \n",
       "\n",
       "[469 rows x 45 columns]"
      ]
     },
     "execution_count": 40,
     "metadata": {},
     "output_type": "execute_result"
    }
   ],
   "source": [
    "Cpx_with_noCr"
   ]
  },
  {
   "cell_type": "code",
   "execution_count": 41,
   "metadata": {},
   "outputs": [
    {
     "data": {
      "image/png": "[encoded data removed]",
      "text/plain": [
       "<Figure size 1000x500 with 2 Axes>"
      ]
     },
     "metadata": {},
     "output_type": "display_data"
    }
   ],
   "source": [
    "fig, (ax2, ax1) = plt.subplots(1, 2, figsize=(10,5))\n",
    "ax1.plot(cat_sums_original['Cr2O3_Cpx'],\n",
    "         cat_sums_original['Cation_Sum_Cpx']-cat_sums_noCr['Cation_Sum_Cpx'], \n",
    "         'sk', mfc='cyan')\n",
    "#ax2.hist(Cpx_with_Cr['Cation_Sum_Cpx'], fc='cyan')\n",
    "#ax2.hist(Cpx_with_noCr['Cation_Sum_Cpx'], facecolor='None', ec='k')\n",
    "\n",
    "NoCr=np.sort(Cpx_with_noCr['Cation_Sum_Cpx'])\n",
    "HasCr=np.sort(Cpx_with_Cr['Cation_Sum_Cpx'])\n",
    "b=3\n",
    "# ax2.step(np.concatenate([NoCr, NoCr[[-1]]]),\n",
    "#          np.arange(NoCr.size+1)/NoCr.size, color='black', linewidth=b, label='NoCr')\n",
    "# ax2.step(np.concatenate([HasCr, HasCr[[-1]]]),\n",
    "#          np.arange(HasCr.size+1)/HasCr.size, color='orange', linewidth=b, label='HasCr')\n",
    "# ax2.legend()\n",
    "# ax2.plot([3.98, 3.98], [0, 1], '-r')\n",
    "# ax2.plot([4.02, 4.02], [0, 1], '-r')\n",
    "ax2.plot(cat_sums_original['Cr2O3_Cpx'],\n",
    "         cat_sums_original['Cation_Sum_Cpx'], \n",
    "         'sk', mfc='cyan')\n",
    "ax1.set_xlabel('Cr$_2$O$_3$ Cpx (wt%)')\n",
    "ax2.set_xlabel('Cr$_2$O$_3$ Cpx (wt%)')\n",
    "ax1.set_ylabel('Cation Sum$_{Meas Cr}$ - Cation Sum$_{Cr=0}$')\n",
    "ax2.set_ylabel('Cation Sum (Measured Cr content)')\n",
    "fig.tight_layout()\n",
    "fig.savefig('Cr_cation_sums.png', dpi=200)"
   ]
  },
  {
   "cell_type": "markdown",
   "metadata": {},
   "source": [
    "## Lets show this with a foreloop - obviously complex"
   ]
  },
  {
   "cell_type": "code",
   "execution_count": 42,
   "metadata": {},
   "outputs": [],
   "source": [
    "import warnings as w\n",
    "with w.catch_warnings():\n",
    "    w.simplefilter('ignore')\n",
    "\n",
    "    linCr=np.linspace(0, 1, 10)\n",
    "    example_cpx1=myCpxs1.iloc[0:10]\n",
    "    example_cpx2=myCpxs1.iloc[0:10]\n",
    "    example_cpx1_cs=np.empty([10, len(linCr)], dtype=float)\n",
    "    example_cpx2_cs=np.empty([10, len(linCr)], dtype=float)\n",
    "    for i in range(0, len(linCr)):\n",
    "        example_cpx1['Cr2O3_Cpx']=linCr[i]\n",
    "        example_cpx2['Na2O_Cpx']=linCr[i]\n",
    "        example_cpx1_cs[:, i]=pt.calculate_clinopyroxene_components(cpx_comps=example_cpx1).Cation_Sum_Cpx\n",
    "        example_cpx2_cs[:, i]=pt.calculate_clinopyroxene_components(cpx_comps=example_cpx2).Cation_Sum_Cpx\n",
    "    "
   ]
  },
  {
   "cell_type": "code",
   "execution_count": 43,
   "metadata": {},
   "outputs": [
    {
     "data": {
      "image/png": "[encoded data removed]",
      "text/plain": [
       "<Figure size 1000x500 with 2 Axes>"
      ]
     },
     "metadata": {},
     "output_type": "display_data"
    }
   ],
   "source": [
    "fig, (ax1, ax2) = plt.subplots(1, 2, figsize=(10,5))\n",
    "for i in range(0, 10):\n",
    "    ax1.plot(linCr, example_cpx1_cs[i, :], '-r')\n",
    "    ax2.plot(linCr, example_cpx2_cs[i, :], '-b')\n",
    "ax1.set_xlabel('Cr$_2$O$_3$ (wt%)')\n",
    "ax2.set_xlabel('Na$_2$O (wt%)')\n",
    "ax1.set_ylabel('Cation Sum')\n",
    "ax1.ticklabel_format(useOffset=False)\n",
    "fig.savefig('Cation_Sum_pertubation.png', dpi=200)"
   ]
  },
  {
   "cell_type": "code",
   "execution_count": 44,
   "metadata": {},
   "outputs": [
    {
     "data": {
      "image/png": "[encoded data removed]",
      "text/plain": [
       "<Figure size 1000x500 with 2 Axes>"
      ]
     },
     "metadata": {},
     "output_type": "display_data"
    }
   ],
   "source": [
    "import warnings as w\n",
    "with w.catch_warnings():\n",
    "    w.simplefilter('ignore')\n",
    "\n",
    "    linCr=np.linspace(0, 10, 10)\n",
    "    example_cpx1=myCpxs1.iloc[0:10]\n",
    "    example_cpx1_cs=np.empty([10, len(linCr)], dtype=float)\n",
    "    for i in range(0, len(linCr)):\n",
    "        example_cpx1['Na2O_Cpx']=linCr[i]\n",
    "        example_cpx1_cs[:, i]=pt.calculate_clinopyroxene_components(cpx_comps=example_cpx1).Cation_Sum_Cpx\n",
    "fig, (ax1, ax2) = plt.subplots(1, 2, figsize=(10,5))\n",
    "for i in range(0, 10):\n",
    "    ax1.plot(linCr, example_cpx1_cs[i, :], '-r')\n",
    "ax1.ticklabel_format(useOffset=False)    "
   ]
  },
  {
   "cell_type": "markdown",
   "metadata": {},
   "source": [
    "## Figure for text - Cpx-only"
   ]
  },
  {
   "cell_type": "code",
   "execution_count": 45,
   "metadata": {},
   "outputs": [
    {
     "data": {
      "text/plain": [
       "490"
      ]
     },
     "execution_count": 45,
     "metadata": {},
     "output_type": "execute_result"
    }
   ],
   "source": [
    "#cpx_components=pt.calculate_clinopyroxene_components(cpx_comps=ExpY1_noise1)\n",
    "len(myCpxs1['Cr2O3_Cpx'].loc[sam])                         "
   ]
  },
  {
   "cell_type": "code",
   "execution_count": 52,
   "metadata": {},
   "outputs": [
    {
     "data": {
      "text/plain": [
       "-2.8222194082283885"
      ]
     },
     "execution_count": 52,
     "metadata": {},
     "output_type": "execute_result"
    }
   ],
   "source": [
    "np.min(Cr_cpx_comp_Wang21_Meas-Cr_cpx_comp_Wang21_NoCr)"
   ]
  },
  {
   "cell_type": "code",
   "execution_count": 56,
   "metadata": {},
   "outputs": [
    {
     "data": {
      "text/plain": [
       "-1.9891946881071725"
      ]
     },
     "execution_count": 56,
     "metadata": {},
     "output_type": "execute_result"
    }
   ],
   "source": [
    "np.min(Cr_cpx_comp_Put2008_Meas-Cr_cpx_comp_Put2008_NoCr)"
   ]
  },
  {
   "cell_type": "code",
   "execution_count": 57,
   "metadata": {},
   "outputs": [
    {
     "data": {
      "text/plain": [
       "-15.531381177808726"
      ]
     },
     "execution_count": 57,
     "metadata": {},
     "output_type": "execute_result"
    }
   ],
   "source": [
    "np.min(Cr_cpx_comp_Put2008_T_Meas-Cr_cpx_comp_Put2008_T_NoCr)"
   ]
  },
  {
   "cell_type": "code",
   "execution_count": 55,
   "metadata": {},
   "outputs": [
    {
     "data": {
      "text/plain": [
       "-34.986452899739334"
      ]
     },
     "execution_count": 55,
     "metadata": {},
     "output_type": "execute_result"
    }
   ],
   "source": [
    "np.min(Cr_cpx_comp_Wang21_T_Meas-Cr_cpx_comp_Wang21_T_NoCr)"
   ]
  },
  {
   "cell_type": "code",
   "execution_count": 59,
   "metadata": {},
   "outputs": [
    {
     "data": {
      "text/plain": [
       "4.631028888888916"
      ]
     },
     "execution_count": 59,
     "metadata": {},
     "output_type": "execute_result"
    }
   ],
   "source": [
    "np.max(Cr_cpx_comp_Pet_Meas-Cr_cpx_comp_Pet_NoCr)"
   ]
  },
  {
   "cell_type": "code",
   "execution_count": 63,
   "metadata": {},
   "outputs": [
    {
     "data": {
      "text/plain": [
       "-92.5533333333342"
      ]
     },
     "execution_count": 63,
     "metadata": {},
     "output_type": "execute_result"
    }
   ],
   "source": [
    "np.min(Cr_cpx_comp_Pet_T_Meas-Cr_cpx_comp_Pet_T_NoCr)"
   ]
  },
  {
   "cell_type": "code",
   "execution_count": 46,
   "metadata": {},
   "outputs": [
    {
     "data": {
      "image/png": "[encoded data removed]",
      "text/plain": [
       "<Figure size 1000x400 with 2 Axes>"
      ]
     },
     "metadata": {},
     "output_type": "display_data"
    }
   ],
   "source": [
    "fig, (ax1, ax2) = plt.subplots(1, 2, figsize=(10,4))\n",
    "ax1.plot(myCpxs1['Cr2O3_Cpx'].loc[sam], Cr_cpx_comp_Pet_Meas-Cr_cpx_comp_Pet_NoCr, '.c')\n",
    "\n",
    "ax1.plot(myCpxs1['Cr2O3_Cpx'].loc[sam], Cr_cpx_comp_Wang21_Meas-Cr_cpx_comp_Wang21_NoCr, 'ok', mec='w')\n",
    "ax1.plot(myCpxs1['Cr2O3_Cpx'].loc[sam], Cr_cpx_comp_Put2008_Meas-Cr_cpx_comp_Put2008_NoCr, '^k', mfc='r')\n",
    "\n",
    "ax2.plot(myCpxs1['Cr2O3_Cpx'].loc[sam], Cr_cpx_comp_Pet_T_Meas-Cr_cpx_comp_Pet_T_NoCr, '.c')\n",
    "\n",
    "ax2.plot(myCpxs1['Cr2O3_Cpx'].loc[sam], Cr_cpx_comp_Wang21_T_Meas-Cr_cpx_comp_Wang21_T_NoCr,  'ok', mec='w')\n",
    "ax2.plot(myCpxs1['Cr2O3_Cpx'].loc[sam], Cr_cpx_comp_Put2008_T_Meas-Cr_cpx_comp_Put2008_T_NoCr, '^k', mfc='r')\n",
    "\n",
    "## Adding error bars based on Ery's suggestion\n",
    "ax1.errorbar(1.5, 0, xerr=0, yerr=3.1, fmt='o', ecolor='cyan', \n",
    "             elinewidth=1, mfc='cyan',  ms=5,\n",
    "             mec='k', capsize=5, \n",
    "             label='Petrelli')\n",
    "ax1.errorbar(1.55, 0, xerr=0, yerr=1.66, fmt='o', ecolor='black', \n",
    "             elinewidth=1, mfc='black',  ms=5,\n",
    "             mec='k', capsize=5, \n",
    "             label='Wang')\n",
    "ax1.errorbar(1.6, 0, xerr=0, yerr=2.6, fmt='o', ecolor='red', \n",
    "             elinewidth=1, mfc='red',  ms=5,\n",
    "             mec='k', capsize=5, \n",
    "             label='P2008')\n",
    "\n",
    "\n",
    "ax2.errorbar(1.5, 0, xerr=0, yerr=53.8, fmt='o', ecolor='cyan', \n",
    "             elinewidth=1, mfc='cyan',  ms=5,\n",
    "             mec='k', capsize=5, \n",
    "             label='Petrelli')\n",
    "ax2.errorbar(1.55, 0, xerr=0, yerr=36.6, fmt='o', ecolor='black', \n",
    "             elinewidth=1, mfc='black',  ms=5,\n",
    "             mec='k', capsize=5, \n",
    "             label='Wang')\n",
    "ax2.errorbar(1.6, 0, xerr=0, yerr=51, fmt='o', ecolor='red', \n",
    "             elinewidth=1, mfc='red',  ms=5,\n",
    "             mec='k', capsize=5, \n",
    "             label='P2008')\n",
    "\n",
    "ax1.set_xlabel('Cr$_2$O$_3$ Cpx (wt%)')\n",
    "ax2.set_xlabel('Cr$_2$O$_3$ Cpx (wt%)')\n",
    "ax1.set_ylabel('Calc P$_{Cr=Meas}$ -Calc P$_{Cr=0}$ ')\n",
    "ax2.set_ylabel('Calc T$_{Cr=Meas}$ -Calc T$_{Cr=0}$ ')\n",
    "plt.tight_layout()\n",
    "fig.savefig('Cr_Cpx-only_points.png', dpi=200)"
   ]
  },
  {
   "cell_type": "markdown",
   "metadata": {},
   "source": [
    "## Figure for text - Cpx-Liq"
   ]
  },
  {
   "cell_type": "markdown",
   "metadata": {},
   "source": [
    "## Figure for Text - Cpx-Liq thermobarometry"
   ]
  },
  {
   "cell_type": "code",
   "execution_count": 65,
   "metadata": {},
   "outputs": [
    {
     "data": {
      "text/plain": [
       "22.950909090909363"
      ]
     },
     "execution_count": 65,
     "metadata": {},
     "output_type": "execute_result"
    }
   ],
   "source": [
    "np.max(Cr_Pet_T_Meas-Cr_Pet_T_NoCr)"
   ]
  },
  {
   "cell_type": "code",
   "execution_count": 47,
   "metadata": {},
   "outputs": [
    {
     "data": {
      "image/png": "[encoded data removed]",
      "text/plain": [
       "<Figure size 1000x400 with 2 Axes>"
      ]
     },
     "metadata": {},
     "output_type": "display_data"
    }
   ],
   "source": [
    "fig, (ax1, ax2) = plt.subplots(1, 2, figsize=(10,4))\n",
    "ax1.plot(myCpxs1['Cr2O3_Cpx'].loc[sam], Cr_Pet_P_Meas-Cr_Pet_P_NoCr, '.c')\n",
    "\n",
    "ax1.plot(myCpxs1['Cr2O3_Cpx'].loc[sam], Cr_31_T33_P_Meas-Cr_31_T33_P_NoCr, '^k')\n",
    "\n",
    "ax1.plot(myCpxs1['Cr2O3_Cpx'].loc[sam], Cr_Neave_T33_P_Meas-Cr_Neave_T33_P_NoCr, '^k', mfc='r')\n",
    "ax1.plot(myCpxs1['Cr2O3_Cpx'].loc[sam], Cr_32c_T33_P_Meas-Cr_32c_T33_P_NoCr, '^k', mfc='yellow')\n",
    "ax1.plot(myCpxs1['Cr2O3_Cpx'].loc[sam], Cr_32c_1996_P_Meas-Cr_32c_1996_P_NoCr, '^k', mfc='orange')\n",
    "\n",
    "#Temp\n",
    "ax2.plot(myCpxs1['Cr2O3_Cpx'].loc[sam], Cr_Pet_T_Meas-Cr_Pet_T_NoCr, '.c')\n",
    "ax2.plot(myCpxs1['Cr2O3_Cpx'].loc[sam], Cr_31_T33_T_Meas-Cr_31_T33_T_NoCr, '^k')\n",
    "#ax1.plot(myCpxs1['Cr2O3_Cpx'].loc[sam], Cr_30_T33_P_Meas-Cr_30_T33_P_NoCr, '^c')\n",
    "\n",
    "ax2.plot(myCpxs1['Cr2O3_Cpx'].loc[sam], Cr_Neave_T33_T_Meas-Cr_Neave_T33_T_NoCr, '^k', mfc='r')\n",
    "ax2.plot(myCpxs1['Cr2O3_Cpx'].loc[sam], Cr_32c_T33_T_Meas-Cr_32c_T33_T_NoCr, '^k', mfc='yellow')\n",
    "ax2.plot(myCpxs1['Cr2O3_Cpx'].loc[sam], Cr_32c_1996_T_Meas-Cr_32c_1996_T_NoCr, '^k', mfc='orange')\n",
    "ax1.set_xlabel('Cr$_2$O$_3$ Cpx (wt%)')\n",
    "ax2.set_xlabel('Cr$_2$O$_3$ Cpx (wt%)')\n",
    "ax1.set_ylabel('Calc P$_{Cr=Meas}$ -Calc P$_{Cr=0}$ ')\n",
    "ax2.set_ylabel('Calc T$_{Cr=Meas}$ -Calc T$_{Cr=0}$ ')\n",
    "fig.tight_layout()\n",
    "\n",
    "## Adding error bars based on Ery's suggestion\n",
    "ax1.errorbar(1.5, 0, xerr=0, yerr=2.9, fmt='o', ecolor='cyan', \n",
    "             elinewidth=1, mfc='cyan',  ms=5,\n",
    "             mec='k', capsize=5, \n",
    "             label='Petrelli')\n",
    "ax1.errorbar(1.55, 0, xerr=0, yerr=5, fmt='o', ecolor='orange', \n",
    "             elinewidth=1, mfc='orange',  ms=5,\n",
    "             mec='k', capsize=5, \n",
    "             label='P2008 1997 T1-eq32c')\n",
    "ax1.errorbar(1.57, 0, xerr=0, yerr=5, fmt='o', ecolor='yellow', \n",
    "             elinewidth=1, mfc='yellow',  ms=5,\n",
    "             mec='k', capsize=5, \n",
    "             label='P2008 1997 T1-eq32c')\n",
    "ax1.errorbar(1.6, 0, xerr=0, yerr=1.4, fmt='o', ecolor='red', \n",
    "             elinewidth=1, mfc='red',  ms=5,\n",
    "             mec='k', capsize=5, \n",
    "             label='P2008 eq33-NP17')\n",
    "\n",
    "\n",
    "ax2.errorbar(1.5, 0, xerr=0, yerr=51, fmt='o', ecolor='cyan', \n",
    "             elinewidth=1, mfc='cyan',  ms=5,\n",
    "             mec='k', capsize=5, \n",
    "             label='Petrelli')\n",
    "ax2.errorbar(1.55, 0, xerr=0, yerr=45, fmt='o', ecolor='orange', \n",
    "             elinewidth=1, mfc='orange',  ms=5,\n",
    "             mec='k', capsize=5, \n",
    "             label='eq33-eq32c')\n",
    "ax2.errorbar(1.57, 0, xerr=0, yerr=27, fmt='o', ecolor='yellow', \n",
    "             elinewidth=1, mfc='yellow',  ms=5,\n",
    "             mec='k', capsize=5, \n",
    "             label='P2008 1996 T1-eq32c')\n",
    "ax2.errorbar(1.6, 0, xerr=0, yerr=45, fmt='o', ecolor='red', \n",
    "             elinewidth=1, mfc='red',  ms=5,\n",
    "             mec='k', capsize=5, \n",
    "             label='P2008 eq33-NP')\n",
    "\n",
    "fig.savefig('Cpx-Liq-Cr-variable-points.png', dpi=200)"
   ]
  },
  {
   "cell_type": "code",
   "execution_count": null,
   "metadata": {},
   "outputs": [],
   "source": []
  },
  {
   "cell_type": "code",
   "execution_count": null,
   "metadata": {},
   "outputs": [],
   "source": []
  },
  {
   "cell_type": "code",
   "execution_count": null,
   "metadata": {},
   "outputs": [],
   "source": []
  }
 ],
 "metadata": {
  "kernelspec": {
   "display_name": "Python 3 (ipykernel)",
   "language": "python",
   "name": "python3"
  },
  "language_info": {
   "codemirror_mode": {
    "name": "ipython",
    "version": 3
   },
   "file_extension": ".py",
   "mimetype": "text/x-python",
   "name": "python",
   "nbconvert_exporter": "python",
   "pygments_lexer": "ipython3",
   "version": "3.9.13"
  },
  "toc-showcode": false
 },
 "nbformat": 4,
 "nbformat_minor": 4
}
